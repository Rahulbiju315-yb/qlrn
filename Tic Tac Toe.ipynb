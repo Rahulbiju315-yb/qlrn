{
 "cells": [
  {
   "cell_type": "code",
   "execution_count": 1,
   "metadata": {},
   "outputs": [],
   "source": [
    "import numpy as np\n",
    "import random as rnd\n",
    "from numpy import array as ar\n",
    "from math import floor\n",
    "from IPython.display import clear_output"
   ]
  },
  {
   "cell_type": "code",
   "execution_count": null,
   "metadata": {},
   "outputs": [],
   "source": []
  },
  {
   "cell_type": "code",
   "execution_count": 2,
   "metadata": {},
   "outputs": [],
   "source": [
    "PLAYER_1 = 1\n",
    "PLAYER_2 = 2"
   ]
  },
  {
   "cell_type": "code",
   "execution_count": null,
   "metadata": {},
   "outputs": [],
   "source": []
  },
  {
   "cell_type": "code",
   "execution_count": 13,
   "metadata": {},
   "outputs": [],
   "source": [
    "def rewardForState(board, player):\n",
    "\n",
    "    for i in range(3):\n",
    "        if board[i][0] == board[i][1] and board[i][2] == board[i][1]:\n",
    "            return (5 * (1 if board[i][1] == player else -1) if board[i][1] != 0 else 0)\n",
    "        \n",
    "        elif board[0][i] == board[1][i] and board[2][i] == board[1][i]:\n",
    "            return (5 * (1 if board[1][i] == player else -1) if board[1][i] != 0 else 0)\n",
    "        \n",
    "    if board[0][0] == board[1][1] and board[2][2] == board[1][1]:\n",
    "        return (5 * (1 if board[1][1] == player else -1) if board[1][1] != 0 else 0)\n",
    "    \n",
    "    if board[0][2] == board[1][1] and board[2][0] == board[1][1]:\n",
    "        return (5 * (1 if board[1][1] == player else -1) if board[1][1] != 0 else 0)\n",
    "    return 0"
   ]
  },
  {
   "cell_type": "code",
   "execution_count": 5,
   "metadata": {},
   "outputs": [],
   "source": [
    "def actionReward(board, player, action):\n",
    "    if board[floor(action / 3)][action % 3] != 0:\n",
    "        return -100\n",
    "    else:\n",
    "        board[floor(action / 3)][action % 3] += player\n",
    "        return rewardForState(board, player)"
   ]
  },
  {
   "cell_type": "code",
   "execution_count": 6,
   "metadata": {},
   "outputs": [],
   "source": [
    "def val(board):\n",
    "    val = 0\n",
    "    for i in range(9):\n",
    "        val += board[floor(i / 3)][i % 3] * 3**i\n",
    "    return int(val)"
   ]
  },
  {
   "cell_type": "code",
   "execution_count": 7,
   "metadata": {},
   "outputs": [],
   "source": [
    "def doAction(player, action, board):\n",
    "    reward = actionReward(board, player, action)\n",
    "    done = False\n",
    "    if (reward != 0 and reward != -100) or np.prod(board) != 0:\n",
    "        done = True\n",
    "    return (reward, done, val(board))"
   ]
  },
  {
   "cell_type": "code",
   "execution_count": 21,
   "metadata": {},
   "outputs": [
    {
     "name": "stdout",
     "output_type": "stream",
     "text": [
      "0  Player =  1\n",
      "[[1. 2. 1.]\n",
      " [2. 1. 1.]\n",
      " [2. 1. 2.]]\n",
      "0  Player =  1\n",
      "[[1. 2. 1.]\n",
      " [2. 1. 1.]\n",
      " [2. 1. 2.]]\n",
      "0  Player =  1\n",
      "[[1. 2. 1.]\n",
      " [2. 1. 1.]\n",
      " [2. 1. 2.]]\n",
      "0  Player =  1\n",
      "[[1. 2. 1.]\n",
      " [2. 1. 1.]\n",
      " [2. 1. 2.]]\n",
      "0  Player =  1\n",
      "[[1. 2. 1.]\n",
      " [2. 1. 1.]\n",
      " [2. 1. 2.]]\n",
      "0  Player =  1\n",
      "[[1. 2. 1.]\n",
      " [2. 1. 1.]\n",
      " [2. 1. 2.]]\n",
      "0  Player =  1\n",
      "[[1. 2. 1.]\n",
      " [2. 1. 1.]\n",
      " [2. 1. 2.]]\n",
      "0  Player =  1\n",
      "[[1. 2. 1.]\n",
      " [2. 1. 1.]\n",
      " [2. 1. 2.]]\n",
      "0  Player =  1\n",
      "[[1. 2. 1.]\n",
      " [2. 1. 1.]\n",
      " [2. 1. 2.]]\n"
     ]
    }
   ],
   "source": [
    "q_table = np.zeros([2, 3**9, 9])\n",
    "\n",
    "for i in range(100000):\n",
    "    board = np.zeros((3, 3))\n",
    "    \n",
    "    alpha = 0.9\n",
    "    gamma = 0.6\n",
    "    epsilon = 0.9\n",
    "    \n",
    "    done = False\n",
    "    \n",
    "    player = 1\n",
    "    state = 0\n",
    "    prev_state = 0\n",
    "    prev_action = 0\n",
    "    \n",
    "    while not done:\n",
    "        epsilon = 0.9 - 0.9 * i / 100000\n",
    "        if rnd.uniform(0, 1) < epsilon:\n",
    "            action = rnd.randint(0, 8)\n",
    "        else:\n",
    "            action = np.argmax(q_table[player - 1, state])\n",
    "#             print(\"Q _ Actions  \\n\", q_table[player - 1, state], end = \"\\n\\n\")\n",
    "        \n",
    "        reward, done, next_state = doAction(player, action, board)\n",
    "        \n",
    "        spect_player = 2 if player == 1 else 1\n",
    "        old_val_player = q_table[player - 1, state, action]\n",
    "        old_val_splayer = q_table[spect_player - 1, prev_state, prev_action]\n",
    "        \n",
    "        next_max = np.argmax(q_table[player - 1, next_state])\n",
    "#         if i % 100:\n",
    "#             print(\"NEXT_MAX \", next_max)\n",
    "#             print(\"next _ state\", next_state)\n",
    "        q_table[player - 1, state, action] = old_val_player * alpha + (reward + gamma * q_table[player - 1, state, next_max]) * (1 - alpha)\n",
    "        \n",
    "        if reward > 0:\n",
    "            q_table[spect_player - 1, prev_state, prev_action] = -reward\n",
    "            \n",
    "#         print(board , \" Player :\", player ,\"Reward : \", reward, \"Next Max : \", next_max, \"Q : \", q_table[player - 1, state, action], end='\\n\\n\\n')\n",
    "        if done and i > 99990:\n",
    "            print(reward, \" Player = \", player)\n",
    "            print(board)\n",
    "        player = 1 if player == 2 else 2\n",
    "        \n",
    "        prev_state = state\n",
    "        prev_action = action\n",
    "        \n",
    "        state = next_state"
   ]
  },
  {
   "cell_type": "code",
   "execution_count": 27,
   "metadata": {
    "scrolled": true
   },
   "outputs": [],
   "source": [
    "board = np.zeros((3, 3))"
   ]
  },
  {
   "cell_type": "code",
   "execution_count": 34,
   "metadata": {},
   "outputs": [
    {
     "name": "stdout",
     "output_type": "stream",
     "text": [
      "[[2. 1. 1.]\n",
      " [1. 1. 0.]\n",
      " [2. 2. 0.]]\n"
     ]
    }
   ],
   "source": [
    "doAction(1, 3, board)\n",
    "print(board)"
   ]
  },
  {
   "cell_type": "code",
   "execution_count": 35,
   "metadata": {},
   "outputs": [
    {
     "name": "stdout",
     "output_type": "stream",
     "text": [
      "[[2. 1. 1.]\n",
      " [1. 1. 2.]\n",
      " [2. 2. 0.]]\n"
     ]
    }
   ],
   "source": [
    "doAction(2, np.argmax(q_table[player - 1, val(board)]), board)\n",
    "print(board)"
   ]
  },
  {
   "cell_type": "code",
   "execution_count": null,
   "metadata": {},
   "outputs": [],
   "source": []
  }
 ],
 "metadata": {
  "kernelspec": {
   "display_name": "Python 3",
   "language": "python",
   "name": "python3"
  },
  "language_info": {
   "codemirror_mode": {
    "name": "ipython",
    "version": 3
   },
   "file_extension": ".py",
   "mimetype": "text/x-python",
   "name": "python",
   "nbconvert_exporter": "python",
   "pygments_lexer": "ipython3",
   "version": "3.7.4"
  }
 },
 "nbformat": 4,
 "nbformat_minor": 2
}
